{
 "cells": [
  {
   "cell_type": "markdown",
   "id": "eafbc1fd",
   "metadata": {},
   "source": [
    "# Tuples \n",
    "\n",
    "tuple is the one of the important in built data structure in python\n",
    "\n",
    "A tuple is a collection of objects which ordered and immutable. \n",
    "\n",
    "Tuples are sequences, just like lists. The differences between\n",
    "\n",
    "tuples and lists are, the tuples cannot be changed unlike lists and tuples use parentheses,\n",
    "\n",
    "whereas lists use square brackets. "
   ]
  },
  {
   "cell_type": "markdown",
   "id": "961e5a58",
   "metadata": {},
   "source": [
    "# Tuples are used for grouping data\n",
    "\n",
    "Creating a tuple is as simple as putting different comma-separated values. \n",
    "\n",
    "Optionally you can put these comma-separated values between parentheses also. \n"
   ]
  },
  {
   "cell_type": "markdown",
   "id": "1b56fe82",
   "metadata": {},
   "source": [
    "# Syntax\n",
    "we represent them by writing the elements inside the parenthesis separated by commas.\n",
    "\n",
    "tuple_name= ( elment _value1, elemnet_value2, elemeent_3....)"
   ]
  },
  {
   "cell_type": "markdown",
   "id": "ae02d64d",
   "metadata": {},
   "source": [
    "# Tuple Functions \n",
    "\n",
    ":len(), max(), min(), tuple(), index(), count(), sum(), sorted()"
   ]
  },
  {
   "cell_type": "code",
   "execution_count": 1,
   "id": "b006a08d",
   "metadata": {},
   "outputs": [
    {
     "data": {
      "text/plain": [
       "('banana', 'elephant', 25, 30.5)"
      ]
     },
     "execution_count": 1,
     "metadata": {},
     "output_type": "execute_result"
    }
   ],
   "source": [
    "tuple_1= ('banana', 'elephant', 25, 30.5)\n",
    "\n",
    "tuple_1"
   ]
  },
  {
   "cell_type": "code",
   "execution_count": 2,
   "id": "27c07553",
   "metadata": {},
   "outputs": [
    {
     "data": {
      "text/plain": [
       "('orange', 'lemon', 'guva', 'pineapple', 'apple')"
      ]
     },
     "execution_count": 2,
     "metadata": {},
     "output_type": "execute_result"
    }
   ],
   "source": [
    "tuple_fruits= ('orange', 'lemon', 'guva', 'pineapple', 'apple')\n",
    "\n",
    "tuple_fruits"
   ]
  },
  {
   "cell_type": "markdown",
   "id": "66eea202",
   "metadata": {},
   "source": [
    "The tuple() Function\n",
    "\n",
    "We can use the tuple() constructor or function to create a tuple. It basically performs two functions as follows:\n",
    "\n",
    "Creating an empty tuple if we give no arguments.\n",
    "\n",
    "Creating a tuple with elements if we pass the arguments."
   ]
  },
  {
   "cell_type": "code",
   "execution_count": 4,
   "id": "54e00fc6",
   "metadata": {},
   "outputs": [
    {
     "data": {
      "text/plain": [
       "(10, 20, 30, 5, 2, 30, 7, 1, 100, 150, 50, 75, 10, 25, 30)"
      ]
     },
     "execution_count": 4,
     "metadata": {},
     "output_type": "execute_result"
    }
   ],
   "source": [
    "#creating a list with numbers\n",
    "\n",
    "tup_numbers= (10, 20, 30, 5, 2, 30,7, 1, 100, 150,50,75, 10, 25, 30)\n",
    "\n",
    "tup_numbers"
   ]
  },
  {
   "cell_type": "code",
   "execution_count": 5,
   "id": "06fecc6e",
   "metadata": {},
   "outputs": [
    {
     "data": {
      "text/plain": [
       "15"
      ]
     },
     "execution_count": 5,
     "metadata": {},
     "output_type": "execute_result"
    }
   ],
   "source": [
    "# len\n",
    "\n",
    "#this function return the the elements in the tuple\n",
    "\n",
    "len(tup_numbers)\n"
   ]
  },
  {
   "cell_type": "code",
   "execution_count": 6,
   "id": "b52608e6",
   "metadata": {},
   "outputs": [
    {
     "data": {
      "text/plain": [
       "3"
      ]
     },
     "execution_count": 6,
     "metadata": {},
     "output_type": "execute_result"
    }
   ],
   "source": [
    "#count\n",
    "\n",
    "# this function counts the specific element in the list\n",
    "\n",
    "tup_numbers.count(30)"
   ]
  },
  {
   "cell_type": "code",
   "execution_count": 7,
   "id": "4497bd56",
   "metadata": {},
   "outputs": [
    {
     "data": {
      "text/plain": [
       "150"
      ]
     },
     "execution_count": 7,
     "metadata": {},
     "output_type": "execute_result"
    }
   ],
   "source": [
    "#max\n",
    "\n",
    "# this function returns the biggest number in the list\n",
    "\n",
    "max(tup_numbers)"
   ]
  },
  {
   "cell_type": "code",
   "execution_count": 8,
   "id": "c543412f",
   "metadata": {},
   "outputs": [
    {
     "data": {
      "text/plain": [
       "1"
      ]
     },
     "execution_count": 8,
     "metadata": {},
     "output_type": "execute_result"
    }
   ],
   "source": [
    "#min\n",
    "\n",
    "# this function returns the small number in the tuple\n",
    "\n",
    "min(tup_numbers)"
   ]
  },
  {
   "cell_type": "code",
   "execution_count": 9,
   "id": "73986ea8",
   "metadata": {},
   "outputs": [
    {
     "name": "stdout",
     "output_type": "stream",
     "text": [
      "(20, 30, 5)\n",
      "(2, 30, 7, 1)\n"
     ]
    }
   ],
   "source": [
    "#slicing the tuple\n",
    "\n",
    "# by using the index of the tuple we can slice the tuple\n",
    "\n",
    "print(tup_numbers[1:4])\n",
    "\n",
    "print(tup_numbers[4:8])"
   ]
  },
  {
   "cell_type": "code",
   "execution_count": 10,
   "id": "9bd1d9b4",
   "metadata": {},
   "outputs": [
    {
     "name": "stdout",
     "output_type": "stream",
     "text": [
      "8\n"
     ]
    }
   ],
   "source": [
    "#index\n",
    "\n",
    "# this function returns the index poistion of the specific element in the tuple\n",
    "\n",
    "print(tup_numbers.index(100))"
   ]
  },
  {
   "cell_type": "code",
   "execution_count": 11,
   "id": "4c84b7d2",
   "metadata": {},
   "outputs": [
    {
     "data": {
      "text/plain": [
       "545"
      ]
     },
     "execution_count": 11,
     "metadata": {},
     "output_type": "execute_result"
    }
   ],
   "source": [
    "#sum \n",
    "\n",
    "# this function returns the sum of the elements in the tuple\n",
    "\n",
    "sum(tup_numbers)"
   ]
  },
  {
   "cell_type": "code",
   "execution_count": 12,
   "id": "f92fb10b",
   "metadata": {},
   "outputs": [
    {
     "data": {
      "text/plain": [
       "[1, 2, 5, 7, 10, 10, 20, 25, 30, 30, 30, 50, 75, 100, 150]"
      ]
     },
     "execution_count": 12,
     "metadata": {},
     "output_type": "execute_result"
    }
   ],
   "source": [
    "#Sorted\n",
    "\n",
    "#this function  returns elements in ascending order\n",
    "\n",
    "sorted(tup_numbers)"
   ]
  },
  {
   "cell_type": "code",
   "execution_count": null,
   "id": "39498a69",
   "metadata": {},
   "outputs": [],
   "source": []
  },
  {
   "cell_type": "markdown",
   "id": "6f66d818",
   "metadata": {},
   "source": [
    "# Sets\n",
    "\n",
    "In Python, a Set is an unordered collection of data types that is iterable, mutable and has no duplicate elements.\n",
    "\n",
    "The order of elements in a set is undefined though it may consist of various elements. The major advantage of using a set,\n",
    "\n",
    "as opposed to a list, is that it has a highly optimized method for checking whether a specific element is contained in the set.\n"
   ]
  },
  {
   "cell_type": "code",
   "execution_count": null,
   "id": "33bbfa1f",
   "metadata": {},
   "outputs": [],
   "source": [
    "Syntax\n",
    "set_name= { element1, element2, element3....}"
   ]
  },
  {
   "cell_type": "code",
   "execution_count": 13,
   "id": "c7861689",
   "metadata": {},
   "outputs": [
    {
     "data": {
      "text/plain": [
       "{2, 3, 4, 10, 15, 20, 25, 50, 58, 65}"
      ]
     },
     "execution_count": 13,
     "metadata": {},
     "output_type": "execute_result"
    }
   ],
   "source": [
    "set_num= { 2, 3,58, 25,15, 4, 4, 2, 10, 20, 50, 65, 50}\n",
    "set_num"
   ]
  },
  {
   "cell_type": "code",
   "execution_count": 14,
   "id": "abe212f6",
   "metadata": {},
   "outputs": [
    {
     "name": "stdout",
     "output_type": "stream",
     "text": [
      "{'apple', 'orange', 'cherry', 'banana'}\n"
     ]
    }
   ],
   "source": [
    "\n",
    "#add\n",
    "# this function adds the element to the set\n",
    "fruits = {\"apple\", \"banana\", \"cherry\"}\n",
    "\n",
    "fruits.add(\"orange\")\n",
    "\n",
    "print(fruits)"
   ]
  },
  {
   "cell_type": "code",
   "execution_count": 15,
   "id": "e714ec70",
   "metadata": {},
   "outputs": [
    {
     "name": "stdout",
     "output_type": "stream",
     "text": [
      "{65, 2, 3, 4, 'apple', 10, 'cherry', 15, 50, 20, 'orange', 25, 58, 'banana'}\n"
     ]
    }
   ],
   "source": [
    "#Union \n",
    "\n",
    "# comines the both the sets\n",
    "\n",
    "# syntax: \n",
    "\n",
    "z = set_num.union(fruits)\n",
    "\n",
    "print(z)"
   ]
  },
  {
   "cell_type": "code",
   "execution_count": 16,
   "id": "d5c8ee00",
   "metadata": {},
   "outputs": [
    {
     "name": "stdout",
     "output_type": "stream",
     "text": [
      "{'apple', 'orange', 'cherry', 'banana'}\n"
     ]
    }
   ],
   "source": [
    "\n",
    "# remove \n",
    "\n",
    "# this function removes the specific element in the list\n",
    "\n",
    "# Syntax\n",
    "\n",
    "# set.remove(item)\n",
    "\n",
    "fruit = {\"apple\", \"banana\", \"cherry\", \"orange\", \"guva\"}\n",
    "\n",
    "fruit.remove(\"guva\")\n",
    "\n",
    "print(fruits)"
   ]
  },
  {
   "cell_type": "code",
   "execution_count": 17,
   "id": "f95d8e65",
   "metadata": {},
   "outputs": [
    {
     "name": "stdout",
     "output_type": "stream",
     "text": [
      "{'apple', 'orange', 'cherry', 'banana'}\n"
     ]
    }
   ],
   "source": [
    "#copy\n",
    "\n",
    "# creating duplicate set\n",
    "\n",
    "# syntax : new_set= set.copy()\n",
    "\n",
    "fruits_2 = fruits.copy()\n",
    "\n",
    "print(fruits_2)"
   ]
  },
  {
   "cell_type": "code",
   "execution_count": 18,
   "id": "c54cd4a0",
   "metadata": {},
   "outputs": [
    {
     "name": "stdout",
     "output_type": "stream",
     "text": [
      "{'guva', 'cherry', 'banana'}\n"
     ]
    }
   ],
   "source": [
    "\n",
    "#pop\n",
    "# this function removes one element in the set\n",
    "\n",
    "#Syntax\n",
    "\n",
    "#set.pop()\n",
    "\n",
    "fruits = {\"apple\", \"banana\", \"cherry\", \"guva\"}\n",
    "\n",
    "fruits.pop()\n",
    "\n",
    "print(fruits)"
   ]
  },
  {
   "cell_type": "code",
   "execution_count": null,
   "id": "2f66545d",
   "metadata": {},
   "outputs": [],
   "source": []
  },
  {
   "cell_type": "code",
   "execution_count": null,
   "id": "e5789b21",
   "metadata": {},
   "outputs": [],
   "source": []
  },
  {
   "cell_type": "code",
   "execution_count": null,
   "id": "795bb855",
   "metadata": {},
   "outputs": [],
   "source": []
  }
 ],
 "metadata": {
  "kernelspec": {
   "display_name": "Python 3 (ipykernel)",
   "language": "python",
   "name": "python3"
  },
  "language_info": {
   "codemirror_mode": {
    "name": "ipython",
    "version": 3
   },
   "file_extension": ".py",
   "mimetype": "text/x-python",
   "name": "python",
   "nbconvert_exporter": "python",
   "pygments_lexer": "ipython3",
   "version": "3.9.12"
  }
 },
 "nbformat": 4,
 "nbformat_minor": 5
}
