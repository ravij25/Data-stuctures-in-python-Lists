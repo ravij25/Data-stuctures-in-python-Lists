{
 "cells": [
  {
   "cell_type": "markdown",
   "id": "55b85ee8",
   "metadata": {},
   "source": [
    "# Dictionaries in Python\n"
   ]
  },
  {
   "cell_type": "markdown",
   "id": "a2b66ad3",
   "metadata": {},
   "source": [
    "# \n",
    "Dictionaries are Python’s implementation of a data structure that is more generally known as an associative array. A dictionary consists of a collection of key-value pairs.\n",
    "\n",
    "Each key-value pair maps the key to its associated value.\n"
   ]
  },
  {
   "cell_type": "markdown",
   "id": "8b00e394",
   "metadata": {},
   "source": [
    "# Syntax\n",
    "\n",
    "define a dictionary by enclosing a comma-separated list of key-value pairs in curly braces ({}). \n",
    "\n",
    "A colon (:) separates each key from its associated value:\n",
    "\n",
    "    dictionary = {\n",
    "    <key1>: <value1>,\n",
    "    <key2>: <value2>,\n",
    "      .\n",
    "      .\n",
    "      .\n",
    "    <key n>: <value n>\n",
    "\n",
    "    }"
   ]
  },
  {
   "cell_type": "code",
   "execution_count": 72,
   "id": "5bfe8767",
   "metadata": {},
   "outputs": [],
   "source": [
    "# let us create dictionary of sport persons of India\n",
    "sports_India= { 'Hockey Player':'Manpreet Singh', 'Cricket Player':'Virat Kohli', 'Football Player':'Sunil Chhetri', \n",
    "              'Kabaddi Player': 'Anup Kumar', 'Badminton Player':'PV Sindhu', 'Tennis Player': 'Prajnesh Gunneswaran',\n",
    "               'Wrestler': 'Bajrang Punia', 'Boxer':'Amit Panghal', 'Racer':'Narain Kartikeyan'\n",
    "              }"
   ]
  },
  {
   "cell_type": "code",
   "execution_count": 73,
   "id": "a876c2ae",
   "metadata": {},
   "outputs": [
    {
     "data": {
      "text/plain": [
       "{'Hockey Player': 'Manpreet Singh',\n",
       " 'Cricket Player': 'Virat Kohli',\n",
       " 'Football Player': 'Sunil Chhetri',\n",
       " 'Kabaddi Player': 'Anup Kumar',\n",
       " 'Badminton Player': 'PV Sindhu',\n",
       " 'Tennis Player': 'Prajnesh Gunneswaran',\n",
       " 'Wrestler': 'Bajrang Punia',\n",
       " 'Boxer': 'Amit Panghal',\n",
       " 'Racer': 'Narain Kartikeyan'}"
      ]
     },
     "execution_count": 73,
     "metadata": {},
     "output_type": "execute_result"
    }
   ],
   "source": [
    "sports_India"
   ]
  },
  {
   "cell_type": "code",
   "execution_count": 78,
   "id": "0ba0e5cb",
   "metadata": {},
   "outputs": [
    {
     "name": "stdout",
     "output_type": "stream",
     "text": [
      "dict_items([('Hockey Player', 'Manpreet Singh'), ('Cricket Player', 'Virat Kohli'), ('Football Player', 'Sunil Chhetri'), ('Kabaddi Player', 'Anup Kumar'), ('Badminton Player', 'PV Sindhu'), ('Tennis Player', 'Prajnesh Gunneswaran'), ('Wrestler', 'Bajrang Punia'), ('Boxer', 'Amit Panghal'), ('Racer', 'Narain Kartikeyan')])\n"
     ]
    }
   ],
   "source": [
    "#items()\n",
    "\n",
    "#The items() method returns a view object. The view object contains the key-value pairs of the dictionary, as tuples in a list.\n",
    "\n",
    "d= sports_India.items()\n",
    "print(d)"
   ]
  },
  {
   "cell_type": "code",
   "execution_count": 79,
   "id": "e0a5c622",
   "metadata": {},
   "outputs": [
    {
     "name": "stdout",
     "output_type": "stream",
     "text": [
      "dict_keys(['Hockey Player', 'Cricket Player', 'Football Player', 'Kabaddi Player', 'Badminton Player', 'Tennis Player', 'Wrestler', 'Boxer', 'Racer'])\n"
     ]
    }
   ],
   "source": [
    "# keys()\n",
    "\n",
    "#The keys() method returns a view object. The view object contains the keys of the dictionary, as a list.\n",
    "\n",
    "#Syntax\n",
    "\n",
    "#dictionary.keys()\n",
    "\n",
    "x = sports_India.keys()\n",
    "\n",
    "print(x)"
   ]
  },
  {
   "cell_type": "code",
   "execution_count": null,
   "id": "d1fed0a9",
   "metadata": {},
   "outputs": [],
   "source": []
  },
  {
   "cell_type": "code",
   "execution_count": 80,
   "id": "8421bc4e",
   "metadata": {},
   "outputs": [
    {
     "name": "stdout",
     "output_type": "stream",
     "text": [
      "dict_values(['Manpreet Singh', 'Virat Kohli', 'Sunil Chhetri', 'Anup Kumar', 'PV Sindhu', 'Prajnesh Gunneswaran', 'Bajrang Punia', 'Amit Panghal', 'Narain Kartikeyan'])\n"
     ]
    }
   ],
   "source": [
    "y = sports_India.values()\n",
    "\n",
    "print(y)"
   ]
  },
  {
   "cell_type": "code",
   "execution_count": 81,
   "id": "69fd2e4f",
   "metadata": {},
   "outputs": [
    {
     "name": "stdout",
     "output_type": "stream",
     "text": [
      "PV Sindhu\n"
     ]
    }
   ],
   "source": [
    "# Accessing Items\n",
    "z= sports_India.get(\"Badminton Player\")\n",
    "\n",
    "print(z)"
   ]
  },
  {
   "cell_type": "code",
   "execution_count": 82,
   "id": "b2111b85",
   "metadata": {},
   "outputs": [
    {
     "name": "stdout",
     "output_type": "stream",
     "text": [
      "Narain Kartikeyan\n"
     ]
    }
   ],
   "source": [
    "p= sports_India.get(\"Racer\")\n",
    "\n",
    "print(p)"
   ]
  },
  {
   "cell_type": "code",
   "execution_count": 83,
   "id": "18820eac",
   "metadata": {},
   "outputs": [
    {
     "name": "stdout",
     "output_type": "stream",
     "text": [
      "{'Hockey Player': 'Manpreet Singh', 'Cricket Player': 'Virat Kohli', 'Football Player': 'Sunil Chhetri', 'Kabaddi Player': 'Anup Kumar', 'Badminton Player': 'PV Sindhu', 'Tennis Player': 'Sania mirza', 'Wrestler': 'Bajrang Punia', 'Boxer': 'Amit Panghal', 'Racer': 'Narain Kartikeyan'}\n"
     ]
    }
   ],
   "source": [
    "#Change Values\n",
    "\n",
    "#You can change the value of a specific item by referring to its key name:\n",
    "sports_India.update({\"Tennis Player\": \"Sania mirza\"})\n",
    "\n",
    "print(sports_India)"
   ]
  },
  {
   "cell_type": "code",
   "execution_count": 84,
   "id": "529ee874",
   "metadata": {},
   "outputs": [
    {
     "name": "stdout",
     "output_type": "stream",
     "text": [
      "{'Hockey Player': 'Manpreet Singh', 'Cricket Player': 'Rohith sharma', 'Football Player': 'Sunil Chhetri', 'Kabaddi Player': 'Anup Kumar', 'Badminton Player': 'PV Sindhu', 'Tennis Player': 'Sania mirza', 'Wrestler': 'Bajrang Punia', 'Boxer': 'Amit Panghal', 'Racer': 'Narain Kartikeyan'}\n"
     ]
    }
   ],
   "source": [
    "sports_India.update({\"Cricket Player\": \"Rohith sharma\"})\n",
    "\n",
    "print(sports_India)"
   ]
  },
  {
   "cell_type": "code",
   "execution_count": 85,
   "id": "c8e7275b",
   "metadata": {},
   "outputs": [
    {
     "name": "stdout",
     "output_type": "stream",
     "text": [
      "{'Hockey Player': 'Manpreet Singh', 'Cricket Player': 'Rohith sharma', 'Football Player': 'Sunil Chhetri', 'Kabaddi Player': 'Anup Kumar', 'Badminton Player': 'PV Sindhu', 'Tennis Player': 'Sania mirza', 'Wrestler': 'Bajrang Punia', 'Boxer': 'Amit Panghal', 'Racer': 'Narain Kartikeyan', 'cricket(W)': 'Mithali Raj'}\n"
     ]
    }
   ],
   "source": [
    "#Adding Items # update()\n",
    "\n",
    "#Adding an item to the dictionary is done by using a new index key and assigning a value to it:\n",
    "\n",
    "sports_India[\"cricket(W)\"] = \"Mithali Raj\"\n",
    "print(sports_India)\n"
   ]
  },
  {
   "cell_type": "code",
   "execution_count": 86,
   "id": "1f0ad2db",
   "metadata": {},
   "outputs": [
    {
     "name": "stdout",
     "output_type": "stream",
     "text": [
      "{'Hockey Player': 'Manpreet Singh', 'Cricket Player': 'Rohith sharma', 'Football Player': 'Sunil Chhetri', 'Kabaddi Player': 'Anup Kumar', 'Badminton Player': 'PV Sindhu', 'Tennis Player': 'Sania mirza', 'Wrestler': 'Bajrang Punia', 'Boxer': 'Amit Panghal', 'cricket(W)': 'Mithali Raj'}\n"
     ]
    }
   ],
   "source": [
    "#Removing Items\n",
    "\n",
    "#There are several methods to remove items from a dictionary:\n",
    "\n",
    "\n",
    "#The pop() method removes the item with the specified key name:\n",
    "\n",
    "\n",
    "sports_India.pop(\"Racer\")\n",
    "\n",
    "print(sports_India)"
   ]
  },
  {
   "cell_type": "code",
   "execution_count": 87,
   "id": "1405dbbf",
   "metadata": {},
   "outputs": [
    {
     "data": {
      "text/plain": [
       "{'Hockey Player': 'Manpreet Singh',\n",
       " 'Cricket Player': 'Rohith sharma',\n",
       " 'Football Player': 'Sunil Chhetri',\n",
       " 'Kabaddi Player': 'Anup Kumar',\n",
       " 'Badminton Player': 'PV Sindhu',\n",
       " 'Tennis Player': 'Sania mirza',\n",
       " 'Wrestler': 'Bajrang Punia',\n",
       " 'Boxer': 'Amit Panghal',\n",
       " 'cricket(W)': 'Mithali Raj'}"
      ]
     },
     "execution_count": 87,
     "metadata": {},
     "output_type": "execute_result"
    }
   ],
   "source": [
    "#Copy a Dictionary\n",
    "\n",
    "#You cannot copy a dictionary simply by typing dict2 = dict1, because: dict2 will only be a reference to dict1,\n",
    "\n",
    "\n",
    "#and changes made in dict1 will automatically also be made in dict2.\n",
    "\n",
    "\n",
    "#There are ways to make a copy, one way is to use the built-in Dictionary method copy().\n",
    "\n",
    "sports_India_2=sports_India.copy()\n",
    "sports_India_2"
   ]
  },
  {
   "cell_type": "code",
   "execution_count": 88,
   "id": "b812d9d1",
   "metadata": {},
   "outputs": [
    {
     "name": "stdout",
     "output_type": "stream",
     "text": [
      "white\n"
     ]
    }
   ],
   "source": [
    "#The setdefault() method returns the value of the item with the specified key.\n",
    "car = {\n",
    "  \"brand\": \"Ford\",\n",
    "  \"model\": \"Mustang\",\n",
    "  \"year\": 1964\n",
    "}\n",
    "\n",
    "x = car.setdefault(\"color\", \"white\")\n",
    "\n",
    "print(x)"
   ]
  },
  {
   "cell_type": "code",
   "execution_count": 89,
   "id": "29c273cc",
   "metadata": {},
   "outputs": [
    {
     "name": "stdout",
     "output_type": "stream",
     "text": [
      "dict_items([('brand', 'Ford'), ('model', 'Mustang'), ('year', 1964)])\n"
     ]
    }
   ],
   "source": [
    "#items()\n",
    "\n",
    "#The items() method returns a view object. The view object contains the key-value pairs of the dictionary, as tuples in a list.\n",
    "\n",
    "car = {\n",
    "  \"brand\": \"Ford\",\n",
    "  \"model\": \"Mustang\",\n",
    "  \"year\": 1964\n",
    "}\n",
    "\n",
    "x = car.items()\n",
    "\n",
    "print(x)"
   ]
  },
  {
   "cell_type": "code",
   "execution_count": 90,
   "id": "a65cc011",
   "metadata": {},
   "outputs": [
    {
     "name": "stdout",
     "output_type": "stream",
     "text": [
      "Mustang\n"
     ]
    }
   ],
   "source": [
    "#The get() method returns the value of the item with the specified key.\n",
    "\n",
    "#Syntax\n",
    "\n",
    "# dictionary.get(keyname, value)\n",
    "\n",
    "car = {\n",
    "  \"brand\": \"Ford\",\n",
    "  \"model\": \"Mustang\",\n",
    "  \"year\": 1964\n",
    "}\n",
    "\n",
    "x = car.get(\"model\")\n",
    "\n",
    "print(x)"
   ]
  },
  {
   "cell_type": "code",
   "execution_count": 91,
   "id": "13dfb37d",
   "metadata": {},
   "outputs": [
    {
     "name": "stdout",
     "output_type": "stream",
     "text": [
      "{'key1': 0, 'key2': 0, 'key3': 0}\n"
     ]
    }
   ],
   "source": [
    "#The fromkeys() method returns a dictionary with the specified keys and the specified value.\n",
    "\n",
    "#Syntax\n",
    "\n",
    "#dict.fromkeys(keys, value)\n",
    "\n",
    "x = ('key1', 'key2', 'key3')\n",
    "y = (0)\n",
    "\n",
    "thisdict = dict.fromkeys(x, y)\n",
    "\n",
    "print(thisdict)"
   ]
  },
  {
   "cell_type": "code",
   "execution_count": 92,
   "id": "7a56cff3",
   "metadata": {},
   "outputs": [
    {
     "data": {
      "text/plain": [
       "{}"
      ]
     },
     "execution_count": 92,
     "metadata": {},
     "output_type": "execute_result"
    }
   ],
   "source": [
    "#clear\n",
    "\n",
    "# The clear() method removes all the elements from a dictionary.\n",
    "\n",
    "#Syntax\n",
    "\n",
    "#dictionary.clear()\n",
    "\n",
    "h= sports_India_2.clear()\n",
    "sports_India_2"
   ]
  },
  {
   "cell_type": "code",
   "execution_count": null,
   "id": "e6991d08",
   "metadata": {},
   "outputs": [],
   "source": []
  },
  {
   "cell_type": "code",
   "execution_count": null,
   "id": "0302cdde",
   "metadata": {},
   "outputs": [],
   "source": []
  }
 ],
 "metadata": {
  "kernelspec": {
   "display_name": "Python 3 (ipykernel)",
   "language": "python",
   "name": "python3"
  },
  "language_info": {
   "codemirror_mode": {
    "name": "ipython",
    "version": 3
   },
   "file_extension": ".py",
   "mimetype": "text/x-python",
   "name": "python",
   "nbconvert_exporter": "python",
   "pygments_lexer": "ipython3",
   "version": "3.9.12"
  }
 },
 "nbformat": 4,
 "nbformat_minor": 5
}
